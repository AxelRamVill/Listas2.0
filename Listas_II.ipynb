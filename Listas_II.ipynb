{
  "nbformat": 4,
  "nbformat_minor": 0,
  "metadata": {
    "kernelspec": {
      "display_name": "Python 3",
      "language": "python",
      "name": "python3"
    },
    "language_info": {
      "codemirror_mode": {
        "name": "ipython",
        "version": 3
      },
      "file_extension": ".py",
      "mimetype": "text/x-python",
      "name": "python",
      "nbconvert_exporter": "python",
      "pygments_lexer": "ipython3",
      "version": "3.8.5"
    },
    "colab": {
      "name": "Listas_II.ipynb",
      "provenance": [],
      "collapsed_sections": []
    }
  },
  "cells": [
    {
      "cell_type": "markdown",
      "metadata": {
        "id": "IDkRGKEjAuL7"
      },
      "source": [
        "# Listas - Segunda parte\n",
        "\n",
        "Coo se ha visto en otros notebooks de este curso, el ciclo for puede actuar a través de una lista, esto se hace através de iteradores en la siguiente celda se muestra un ejemplo"
      ]
    },
    {
      "cell_type": "code",
      "metadata": {
        "id": "xgpMOmA-AuL8",
        "outputId": "9577fee4-eaaf-4504-8fe5-24dba53537e4",
        "colab": {
          "base_uri": "https://localhost:8080/",
          "height": 181
        }
      },
      "source": [
        "# Celda 01\n",
        "\n",
        "colores = ['Amarillo','Cyan','Magenta','Blanco','Negro', 'Morado','Azul', 'Verde','Lila','Rojo']\n",
        "\n",
        "for color in colores:\n",
        "    print(color)"
      ],
      "execution_count": null,
      "outputs": [
        {
          "output_type": "stream",
          "text": [
            "Amarillo\n",
            "Cyan\n",
            "Magenta\n",
            "Blanco\n",
            "Negro\n",
            "Morado\n",
            "Azul\n",
            "Verde\n",
            "Lila\n",
            "Rojo\n"
          ],
          "name": "stdout"
        }
      ]
    },
    {
      "cell_type": "markdown",
      "metadata": {
        "id": "AZwAw_cXAuMA"
      },
      "source": [
        "También se puede extraer cada elemento a través del índice de la lista esto se haría como se muestra a continuación "
      ]
    },
    {
      "cell_type": "code",
      "metadata": {
        "scrolled": true,
        "id": "D6tue077AuMB",
        "outputId": "f91fb347-b881-4f18-97d8-fdc28152cc17"
      },
      "source": [
        "# Celda 02\n",
        "\n",
        "colores = ['Amarillo','Cyan','Magenta','Blanco','Negro', 'Morado','Azul', 'Verde','Lila','Rojo']\n",
        "\n",
        "for index in range(len(colores)):\n",
        "    print(colores[index])"
      ],
      "execution_count": null,
      "outputs": [
        {
          "output_type": "stream",
          "text": [
            "Amarillo\n",
            "Cyan\n",
            "Magenta\n",
            "Blanco\n",
            "Negro\n",
            "Morado\n",
            "Azul\n",
            "Verde\n",
            "Lila\n",
            "Rojo\n"
          ],
          "name": "stdout"
        }
      ]
    },
    {
      "cell_type": "markdown",
      "metadata": {
        "id": "RhN8k7NzAuME"
      },
      "source": [
        "# Trabajando con partes de alguna lista\n",
        "\n",
        "Una característica importante de las listas es que éstas se pueden partir o extraer sólo una parte ellas para poder procesarlas de manera independiente, observe el siguiente código"
      ]
    },
    {
      "cell_type": "code",
      "metadata": {
        "id": "h6gnz6j-AuME",
        "outputId": "dba789ab-fc67-4284-9968-168b8d70010a",
        "colab": {
          "base_uri": "https://localhost:8080/",
          "height": 66
        }
      },
      "source": [
        "# Celda 03\n",
        "\n",
        "colores = ['Amarillo','Cyan','Magenta','Blanco','Negro', 'Morado','Azul', 'Verde','Lila','Rojo']\n",
        "\n",
        "colores_primarios = colores[0:3]\n",
        "\n",
        "colores_otros = colores[0:-3]\n",
        "\n",
        "print(colores_primarios)\n",
        "\n",
        "print(colores_otros)\n",
        "\n",
        "print(colores[-6])"
      ],
      "execution_count": null,
      "outputs": [
        {
          "output_type": "stream",
          "text": [
            "['Amarillo', 'Cyan', 'Magenta']\n",
            "['Amarillo', 'Cyan', 'Magenta', 'Blanco', 'Negro', 'Morado', 'Azul']\n",
            "Negro\n"
          ],
          "name": "stdout"
        }
      ]
    },
    {
      "cell_type": "markdown",
      "metadata": {
        "id": "uMu5d1gQAuMH"
      },
      "source": [
        "Se pueden extraer partes de una no importando el subíndice, aunque si no hay valores dentro de los subíndices que ha puesto tendrá un lista vacía como resultado."
      ]
    },
    {
      "cell_type": "code",
      "metadata": {
        "id": "tYalXt1gAuMH",
        "outputId": "a5a707b4-9517-4b13-b362-52c8d5c05a57",
        "colab": {
          "base_uri": "https://localhost:8080/",
          "height": 49
        }
      },
      "source": [
        "# Celda 04\n",
        "\n",
        "colores = ['Amarillo','Cyan','Magenta','Blanco','Negro', 'Morado','Azul', 'Verde','Lila','Rojo']\n",
        "\n",
        "otros_colores = colores[3:8]\n",
        "\n",
        "print(otros_colores)\n",
        "\n",
        "otros_colores = colores[8:10]\n",
        "\n",
        "print(otros_colores)\n"
      ],
      "execution_count": null,
      "outputs": [
        {
          "output_type": "stream",
          "text": [
            "['Blanco', 'Negro', 'Morado', 'Azul', 'Verde']\n",
            "['Lila', 'Rojo']\n"
          ],
          "name": "stdout"
        }
      ]
    },
    {
      "cell_type": "markdown",
      "metadata": {
        "id": "IrTA6WR4AuML"
      },
      "source": [
        "En caso que no se haya definido un índice inicial y no uno final, se tomara del elemento que se haya indicado hasta el final.  Tal como se muestra en la siguiente celda"
      ]
    },
    {
      "cell_type": "code",
      "metadata": {
        "id": "hVKyL4GSAuML",
        "outputId": "198cb33b-d774-4da6-9171-dbc5564499b7"
      },
      "source": [
        "# Celda 05\n",
        "\n",
        "colores = ['Amarillo','Cyan','Magenta','Blanco','Negro', 'Morado','Azul', 'Verde','Lila','Rojo']\n",
        "\n",
        "otros_colores = colores[3:]\n",
        "\n",
        "print(otros_colores)\n",
        "\n"
      ],
      "execution_count": null,
      "outputs": [
        {
          "output_type": "stream",
          "text": [
            "['Blanco', 'Negro', 'Morado', 'Azul', 'Verde', 'Lila', 'Rojo']\n"
          ],
          "name": "stdout"
        }
      ]
    },
    {
      "cell_type": "markdown",
      "metadata": {
        "id": "wczgSsnIAuMO"
      },
      "source": [
        "En caso que no se haya especificado índice inicial y sólo final tomará desde el inicio de la lista hasta la posición - 1 que haya asignado."
      ]
    },
    {
      "cell_type": "code",
      "metadata": {
        "id": "1OmgA8UlAuMO",
        "outputId": "8de55cd2-a02c-4ce0-a69f-9ed0b47f8822"
      },
      "source": [
        "# Celda 06\n",
        "\n",
        "colores = ['Amarillo','Cyan','Magenta','Blanco','Negro', 'Morado','Azul', 'Verde','Lila','Rojo']\n",
        "\n",
        "otros_colores = colores[:5]\n",
        "\n",
        "print(otros_colores)"
      ],
      "execution_count": null,
      "outputs": [
        {
          "output_type": "stream",
          "text": [
            "['Amarillo', 'Cyan', 'Magenta', 'Blanco', 'Negro']\n"
          ],
          "name": "stdout"
        }
      ]
    },
    {
      "cell_type": "markdown",
      "metadata": {
        "id": "PpLZu0YbAuMR"
      },
      "source": [
        "Si no se han especificado ninguno de los dos índices se tomara toda la listo, esto es muy útil cuando se requiere copiar toda una lista"
      ]
    },
    {
      "cell_type": "markdown",
      "metadata": {
        "id": "ctX1099gAuMS"
      },
      "source": [
        "## List comprehension"
      ]
    },
    {
      "cell_type": "markdown",
      "metadata": {
        "id": "dazO9Rr1AuMS"
      },
      "source": [
        "Ahora suponga que quiere definir una lista y después tomar cada elemento y elevarlo al cuadrado, uno de los enfoques sería, primero generar una lista o vector y después tomar cada elemento del vector y hacer la operación matemática, tal como se muestra en la siguiente celda"
      ]
    },
    {
      "cell_type": "code",
      "metadata": {
        "id": "kxtyO0XEAuMT",
        "outputId": "414cdc36-95c1-4e7b-9d1e-fb80c7344f99",
        "colab": {
          "base_uri": "https://localhost:8080/",
          "height": 49
        }
      },
      "source": [
        "# Celda 07\n",
        "\n",
        "x = list(range(0,11,1))\n",
        "y = []\n",
        "print(x)\n",
        "for value in x:\n",
        "    square = value**2\n",
        "    y.append(square)\n",
        "print(y)"
      ],
      "execution_count": null,
      "outputs": [
        {
          "output_type": "stream",
          "text": [
            "[0, 1, 2, 3, 4, 5, 6, 7, 8, 9, 10]\n",
            "[0, 1, 4, 9, 16, 25, 36, 49, 64, 81, 100]\n"
          ],
          "name": "stdout"
        }
      ]
    },
    {
      "cell_type": "markdown",
      "metadata": {
        "id": "K1yBxZosAuMV"
      },
      "source": [
        "La segunda opción es utilizar el enfoque que se llama `list comprehension`, el mismo código se muestra a continuación en la siguiente celda."
      ]
    },
    {
      "cell_type": "code",
      "metadata": {
        "id": "WqqxSwQIAuMW",
        "outputId": "b7e93036-36c0-4800-bfe9-da14f7dc6a3a"
      },
      "source": [
        "# Celda 08\n",
        "\n",
        "y = [value**2 for value in range(1,11,1)]\n",
        "print(y)"
      ],
      "execution_count": null,
      "outputs": [
        {
          "output_type": "stream",
          "text": [
            "[1, 4, 9, 16, 25, 36, 49, 64, 81, 100]\n"
          ],
          "name": "stdout"
        }
      ]
    },
    {
      "cell_type": "markdown",
      "metadata": {
        "id": "RRmbxpqUAuMZ"
      },
      "source": [
        "# Utilizando las listas para poder  hacer asignaciones mútiples\n",
        "\n",
        "Considere el siguiente ejemplo \n"
      ]
    },
    {
      "cell_type": "code",
      "metadata": {
        "id": "sMLpVzAMAuMZ",
        "outputId": "f0761815-5ffd-4c22-d941-55964f7a8697"
      },
      "source": [
        "# Celda 09\n",
        "\n",
        "valores = [4,8,16]\n",
        "\n",
        "numero, doble,cuadrado = valores\n",
        "\n",
        "print(numero)\n",
        "print(doble)\n",
        "print(cuadrado)"
      ],
      "execution_count": null,
      "outputs": [
        {
          "output_type": "stream",
          "text": [
            "4\n",
            "8\n",
            "16\n"
          ],
          "name": "stdout"
        }
      ]
    },
    {
      "cell_type": "markdown",
      "metadata": {
        "id": "juTzPxRlAuMc"
      },
      "source": [
        "Observe que se ha hecho una asignación triple, este tipo de situaciones son muy útiles al momento de poder hacer funciones en las que se requiere que regresen varios valores de forma mútliple.  Observe el siguiente código\n",
        " "
      ]
    },
    {
      "cell_type": "code",
      "metadata": {
        "id": "CFWHFpsuAuMc",
        "outputId": "74101adb-a092-4351-d66d-9f0b5d7d3652"
      },
      "source": [
        "# Celda 10\n",
        "\n",
        "def calculos(valor):\n",
        "    cuadrado = valor**2\n",
        "    cubo = valor **3\n",
        "    raiz = valor**(1/2)\n",
        "    return [cuadrado, cubo, raiz]\n",
        "\n",
        "cuadrado, cubo, raiz = calculos(4)\n",
        "\n",
        "print(\"El cuadrado de 4 es: \", cuadrado)\n",
        "print(\"El cubo de 4 es: \",cubo)\n",
        "print(\"La raiz de 4 es: \", raiz)"
      ],
      "execution_count": null,
      "outputs": [
        {
          "output_type": "stream",
          "text": [
            "El cuadrado de 4 es:  16\n",
            "El cubo de 4 es:  64\n",
            "La raiz de 4 es:  2.0\n"
          ],
          "name": "stdout"
        }
      ]
    },
    {
      "cell_type": "markdown",
      "metadata": {
        "id": "PSMOzEvlAuMe"
      },
      "source": [
        "# Operadores extras y muy útiles en listas\n",
        "\n",
        "## max()\n",
        "La función `max()` regresa el valor máximo de una lista NUMERICA y de una lista que contiene texto regesará el valor que esté en el último lugar si se organiza la lista en orden alfabético "
      ]
    },
    {
      "cell_type": "code",
      "metadata": {
        "id": "CAN8pspyAuMf",
        "outputId": "3e3541f0-c46e-456a-98c0-bfe50ffc6357"
      },
      "source": [
        "# Celda 11\n",
        "\n",
        "colores = ['Amarillo','Cyan','Magenta','Blanco','Negro', 'Morado','Azul', 'Verde','Lila','Rojo']\n",
        "\n",
        "print(max(colores))"
      ],
      "execution_count": null,
      "outputs": [
        {
          "output_type": "stream",
          "text": [
            "Verde\n"
          ],
          "name": "stdout"
        }
      ]
    },
    {
      "cell_type": "code",
      "metadata": {
        "id": "1Edqxkv-AuMh",
        "outputId": "ce5d0f45-f0f4-4807-e5aa-58c062de077f"
      },
      "source": [
        "# Celda 12\n",
        "\n",
        "valores = [ 1, 7, 9 , 92,2, -1, -38]\n",
        "print(max(valores))\n"
      ],
      "execution_count": null,
      "outputs": [
        {
          "output_type": "stream",
          "text": [
            "92\n"
          ],
          "name": "stdout"
        }
      ]
    },
    {
      "cell_type": "markdown",
      "metadata": {
        "id": "hd9GtFhCAuMj"
      },
      "source": [
        "## min()\n",
        "El operador min regresa el valor mínimo  de una lista"
      ]
    },
    {
      "cell_type": "code",
      "metadata": {
        "id": "VTwPtWC4AuMk",
        "outputId": "e7a28192-008f-4492-9056-148ca2f390a4"
      },
      "source": [
        "# Celda 13\n",
        "\n",
        "colores = ['Amarillo','Cyan','Magenta','Blanco','Negro', 'Morado','Azul', 'Verde','Lila','Rojo']\n",
        "\n",
        "print(min(colores))"
      ],
      "execution_count": null,
      "outputs": [
        {
          "output_type": "stream",
          "text": [
            "Amarillo\n"
          ],
          "name": "stdout"
        }
      ]
    },
    {
      "cell_type": "code",
      "metadata": {
        "id": "_FjaS_KkAuMm",
        "outputId": "8e9b8180-b544-4cb0-fedd-8e1fb194b68f"
      },
      "source": [
        "# Celda 14\n",
        "\n",
        "valores = [ 1, 7, 9 , 92,2, -1, -38]\n",
        "print(min(valores))\n"
      ],
      "execution_count": null,
      "outputs": [
        {
          "output_type": "stream",
          "text": [
            "-38\n"
          ],
          "name": "stdout"
        }
      ]
    },
    {
      "cell_type": "markdown",
      "metadata": {
        "id": "Fg3lwy3TAuMo"
      },
      "source": [
        "## sum()\n",
        "Resgresa la suma de los elementos de una lista, **SOLO FUNCIONA CON LISTAS CUYOS ELEMENTOS SON NUMÉRICOS**\n",
        "\n"
      ]
    },
    {
      "cell_type": "code",
      "metadata": {
        "id": "hg2nKo9tAuMp",
        "outputId": "75d30394-f4a1-4e3b-aa90-930dfbf7d40f"
      },
      "source": [
        "# Celda 15\n",
        "\n",
        "valores = [ 1, 7, 9 , 92,2, -1, -38]\n",
        "sum(valores)"
      ],
      "execution_count": null,
      "outputs": [
        {
          "output_type": "execute_result",
          "data": {
            "text/plain": [
              "72"
            ]
          },
          "metadata": {
            "tags": []
          },
          "execution_count": 30
        }
      ]
    },
    {
      "cell_type": "markdown",
      "metadata": {
        "id": "SiRUtiVEAuMr"
      },
      "source": [
        "## `in` y `not in`\n",
        "Estos operadores nos ayudan a verficar si algún elemento está dentro de la lista o no, observe el comportamiento en la siguient celda"
      ]
    },
    {
      "cell_type": "code",
      "metadata": {
        "id": "37wb65LAAuMs",
        "outputId": "7edfe2f2-dee2-4853-b872-1fa8301e6221"
      },
      "source": [
        "# Celda 16\n",
        "\n",
        "colores = ['Amarillo','Cyan','Magenta','Blanco','Negro', 'Morado','Azul', 'Verde','Lila','Rojo']\n",
        "\n",
        "print('beige' in colores)"
      ],
      "execution_count": null,
      "outputs": [
        {
          "output_type": "stream",
          "text": [
            "False\n"
          ],
          "name": "stdout"
        }
      ]
    },
    {
      "cell_type": "code",
      "metadata": {
        "id": "LDqYrYo_AuMu",
        "outputId": "29306f42-cf8e-4e87-8851-c4a61b319a74"
      },
      "source": [
        "# Celda 17\n",
        "\n",
        "colores = ['Amarillo','Cyan','Magenta','Blanco','Negro', 'Morado','Azul', 'Verde','Lila','Rojo']\n",
        "\n",
        "print('beige' not in colores)"
      ],
      "execution_count": null,
      "outputs": [
        {
          "output_type": "stream",
          "text": [
            "True\n"
          ],
          "name": "stdout"
        }
      ]
    },
    {
      "cell_type": "markdown",
      "metadata": {
        "id": "DEfOZ_nIAuMw"
      },
      "source": [
        "## index \n",
        "\n",
        "Este método de las listas ayuda regresa el índice de un elemento si es que el valor de dicho elemento está dentro de la lista, observe el siguiente ejemplo"
      ]
    },
    {
      "cell_type": "code",
      "metadata": {
        "id": "eI7z9WNaAuMw",
        "outputId": "39d9c9a9-eb11-4ce5-f0d7-d60ce8baf38d"
      },
      "source": [
        "# Celda 18\n",
        "\n",
        "colores = ['Amarillo','Cyan','Magenta','Blanco','Negro', 'Morado','Azul', 'Verde','Lila','Rojo']\n",
        "\n",
        "print(colores.index('Magenta'))\n",
        "\n",
        "print(colores.index('Beige'))\n"
      ],
      "execution_count": null,
      "outputs": [
        {
          "output_type": "stream",
          "text": [
            "2\n"
          ],
          "name": "stdout"
        },
        {
          "output_type": "error",
          "ename": "ValueError",
          "evalue": "'Beige' is not in list",
          "traceback": [
            "\u001b[0;31m---------------------------------------------------------------------------\u001b[0m",
            "\u001b[0;31mValueError\u001b[0m                                Traceback (most recent call last)",
            "\u001b[0;32m<ipython-input-16-4efb2f9e4292>\u001b[0m in \u001b[0;36m<module>\u001b[0;34m\u001b[0m\n\u001b[1;32m      5\u001b[0m \u001b[0mprint\u001b[0m\u001b[0;34m(\u001b[0m\u001b[0mcolores\u001b[0m\u001b[0;34m.\u001b[0m\u001b[0mindex\u001b[0m\u001b[0;34m(\u001b[0m\u001b[0;34m'Magenta'\u001b[0m\u001b[0;34m)\u001b[0m\u001b[0;34m)\u001b[0m\u001b[0;34m\u001b[0m\u001b[0;34m\u001b[0m\u001b[0m\n\u001b[1;32m      6\u001b[0m \u001b[0;34m\u001b[0m\u001b[0m\n\u001b[0;32m----> 7\u001b[0;31m \u001b[0mprint\u001b[0m\u001b[0;34m(\u001b[0m\u001b[0mcolores\u001b[0m\u001b[0;34m.\u001b[0m\u001b[0mindex\u001b[0m\u001b[0;34m(\u001b[0m\u001b[0;34m'Beige'\u001b[0m\u001b[0;34m)\u001b[0m\u001b[0;34m)\u001b[0m\u001b[0;34m\u001b[0m\u001b[0;34m\u001b[0m\u001b[0m\n\u001b[0m",
            "\u001b[0;31mValueError\u001b[0m: 'Beige' is not in list"
          ]
        }
      ]
    },
    {
      "cell_type": "markdown",
      "metadata": {
        "id": "0m7erQWrAuMz"
      },
      "source": [
        "# Estructuras de datos mutables e inmutables\n",
        "\n",
        "Las listas no son el único tipo de estructuras de datos, existen las cadenas de caracteres o strings, entre otras estructuras, sin embargo, se pueden clasificar en dos grandes grupos, estructuras mutables e inmutables.\n",
        "\n",
        "Una lista es una estructura mutable, ua que aunque se haya declarado e inicializado los elementos,  éstos pueden cambiar uno por uno o toda la lista, esta característica es propia de de las **ESTRUCTURAS DE DATOS MUTABLES**. Se han visto varios ejemplos a lo largo de éste notebook y otros. \n",
        "\n",
        "\n",
        "Una **Estructura de datos inmutable** es aquella en la que una vez que se ha declarado e inicializada nose puden cambiar elemento por elemento sino que se debe de modificar toda la estructura de datos, un ejemplo de estas estructurasd e datos son los `strings` y las `tuplas`, que de manera no formal y muy burda se puede decir que son las listas inmutables, al ser inmutables hay algunos elementos o métodos de las listas que no aplican para las tuplas. \n",
        "\n",
        "En las siguientes celdas se muestra la inumtabilidad de los `strings`.\n"
      ]
    },
    {
      "cell_type": "code",
      "metadata": {
        "id": "n8bxF9FVAuM0",
        "outputId": "7fa8776c-605b-4fbb-a688-97c60cedcd1b"
      },
      "source": [
        "# Celda 19\n",
        "\n",
        "string_01 = 'Hola muchachos'\n",
        "string_01[3] = 'k'"
      ],
      "execution_count": null,
      "outputs": [
        {
          "output_type": "error",
          "ename": "TypeError",
          "evalue": "'str' object does not support item assignment",
          "traceback": [
            "\u001b[0;31m---------------------------------------------------------------------------\u001b[0m",
            "\u001b[0;31mTypeError\u001b[0m                                 Traceback (most recent call last)",
            "\u001b[0;32m<ipython-input-18-3cec6089383b>\u001b[0m in \u001b[0;36m<module>\u001b[0;34m\u001b[0m\n\u001b[1;32m      2\u001b[0m \u001b[0;34m\u001b[0m\u001b[0m\n\u001b[1;32m      3\u001b[0m \u001b[0mstring_01\u001b[0m \u001b[0;34m=\u001b[0m \u001b[0;34m'Hola muchachos'\u001b[0m\u001b[0;34m\u001b[0m\u001b[0;34m\u001b[0m\u001b[0m\n\u001b[0;32m----> 4\u001b[0;31m \u001b[0mstring_01\u001b[0m\u001b[0;34m[\u001b[0m\u001b[0;36m3\u001b[0m\u001b[0;34m]\u001b[0m \u001b[0;34m=\u001b[0m \u001b[0;34m'k'\u001b[0m\u001b[0;34m\u001b[0m\u001b[0;34m\u001b[0m\u001b[0m\n\u001b[0m",
            "\u001b[0;31mTypeError\u001b[0m: 'str' object does not support item assignment"
          ]
        }
      ]
    },
    {
      "cell_type": "code",
      "metadata": {
        "id": "fZ4ixBnTAuM2",
        "outputId": "3588bdbf-8f55-40aa-a3a9-409fcb78b1b0"
      },
      "source": [
        "# Celda 20\n",
        "\n",
        "string_01 = 'Hola muchachos'\n",
        "print(string_01)\n",
        "\n",
        "string_01 = 'Python programming'\n",
        "print(string_01)"
      ],
      "execution_count": null,
      "outputs": [
        {
          "output_type": "stream",
          "text": [
            "Hola muchachos\n",
            "Python programming\n"
          ],
          "name": "stdout"
        }
      ]
    },
    {
      "cell_type": "markdown",
      "metadata": {
        "id": "pN-hIVT_AuM6"
      },
      "source": [
        "# Tuplas\n",
        "Como ya se ha mencionado las tuplas son estructuras numéricas inmutables, la sintaxis para definir una tupla es muy similar a las listas, sólo que en vez de utilizar corchetes (`[ ]`), se utilizarán los paréntesis `(  )`."
      ]
    },
    {
      "cell_type": "markdown",
      "metadata": {
        "id": "cI8yjXjdAuM6"
      },
      "source": [
        "miTupla = (valor1, valor2, valor3)"
      ]
    },
    {
      "cell_type": "code",
      "metadata": {
        "id": "UIE8Kc4tAuM7",
        "outputId": "e2122c1c-02ed-47b8-b2ca-7ebe291338d6"
      },
      "source": [
        "Tupla_01 = (6,'hola',8)\n",
        "print(Tupla_01)"
      ],
      "execution_count": null,
      "outputs": [
        {
          "output_type": "stream",
          "text": [
            "(6, 'hola', 8)\n"
          ],
          "name": "stdout"
        }
      ]
    },
    {
      "cell_type": "code",
      "metadata": {
        "scrolled": true,
        "id": "bEZ_PHWSAuM9",
        "outputId": "15861392-b31b-4e61-9b5b-9a69d36114a2"
      },
      "source": [
        "Tupla_01 = (6,'hola',8)\n",
        "Tupla_01[1] = 5\n",
        "print(Tupla_01)"
      ],
      "execution_count": null,
      "outputs": [
        {
          "output_type": "error",
          "ename": "TypeError",
          "evalue": "'tuple' object does not support item assignment",
          "traceback": [
            "\u001b[0;31m---------------------------------------------------------------------------\u001b[0m",
            "\u001b[0;31mTypeError\u001b[0m                                 Traceback (most recent call last)",
            "\u001b[0;32m<ipython-input-21-f9178a093425>\u001b[0m in \u001b[0;36m<module>\u001b[0;34m\u001b[0m\n\u001b[1;32m      1\u001b[0m \u001b[0mTupla_01\u001b[0m \u001b[0;34m=\u001b[0m \u001b[0;34m(\u001b[0m\u001b[0;36m6\u001b[0m\u001b[0;34m,\u001b[0m\u001b[0;34m'hola'\u001b[0m\u001b[0;34m,\u001b[0m\u001b[0;36m8\u001b[0m\u001b[0;34m)\u001b[0m\u001b[0;34m\u001b[0m\u001b[0;34m\u001b[0m\u001b[0m\n\u001b[0;32m----> 2\u001b[0;31m \u001b[0mTupla_01\u001b[0m\u001b[0;34m[\u001b[0m\u001b[0;36m1\u001b[0m\u001b[0;34m]\u001b[0m \u001b[0;34m=\u001b[0m \u001b[0;36m5\u001b[0m\u001b[0;34m\u001b[0m\u001b[0;34m\u001b[0m\u001b[0m\n\u001b[0m\u001b[1;32m      3\u001b[0m \u001b[0mprint\u001b[0m\u001b[0;34m(\u001b[0m\u001b[0mTupla_01\u001b[0m\u001b[0;34m)\u001b[0m\u001b[0;34m\u001b[0m\u001b[0;34m\u001b[0m\u001b[0m\n",
            "\u001b[0;31mTypeError\u001b[0m: 'tuple' object does not support item assignment"
          ]
        }
      ]
    },
    {
      "cell_type": "code",
      "metadata": {
        "id": "1r8zHHKCAuNA",
        "outputId": "72f310ce-2f1e-42ca-c118-39edfe1a7312"
      },
      "source": [
        "Tupla_01 =(6, 8, 10)\n",
        "print(Tupla_01)\n",
        "\n",
        "Tupla_01 = (5,6)\n",
        "print(Tupla_01)"
      ],
      "execution_count": null,
      "outputs": [
        {
          "output_type": "stream",
          "text": [
            "(6, 8, 10)\n",
            "(5, 6)\n"
          ],
          "name": "stdout"
        }
      ]
    },
    {
      "cell_type": "markdown",
      "metadata": {
        "id": "lb1SML0YAuNC"
      },
      "source": [
        "# Ejercicios\n",
        "1.- Escribir un programa para comparar y obtener la diferencia de dos listas.\n",
        "\n",
        "2.- Escribir un programa que lea una lista de 10 elementos y que indique el segundo número menor de la lista.\n",
        "\n",
        "3.- Escribir un programa que cuente la frecuencia de los elementos de una lista. \n",
        "\n",
        "4.- Escribir un programa que muestre los elementos que se repiten en dos listas de 20 elementos cada una, la lista debe ser llenada a través del teclado. \n"
      ]
    },
    {
      "cell_type": "code",
      "metadata": {
        "id": "NLFJAI4-AuNC",
        "outputId": "ffadb585-5bff-4185-d254-f718533b0d7a",
        "colab": {
          "base_uri": "https://localhost:8080/",
          "height": 49
        }
      },
      "source": [
        "# Ejercicio 1 #\n",
        "\n",
        "lista_1 = [1, 2, 3, 4, 5] \n",
        "lista_2 = [2, 3, 4, 5, 6, 7, 8]\n",
        "\n",
        "if (lista_1==lista_2):\n",
        "  print(\"Las listas son iguales\")\n",
        "\n",
        "else :\n",
        "  print(\"no son iguales\")  \n",
        "  diferencia_a = set(lista_1) - set(lista_2)\n",
        "  diferencia_b = set(lista_2) - set(lista_1)\n",
        "  print(diferencia_a, diferencia_b)\n",
        "\n"
      ],
      "execution_count": null,
      "outputs": [
        {
          "output_type": "stream",
          "text": [
            "no son iguales\n",
            "{1} {8, 6, 7}\n"
          ],
          "name": "stdout"
        }
      ]
    },
    {
      "cell_type": "code",
      "metadata": {
        "id": "x8PRb94tF1JS",
        "outputId": "e6558b30-af6a-49c8-ac48-9f343724a0d4",
        "colab": {
          "base_uri": "https://localhost:8080/",
          "height": 33
        }
      },
      "source": [
        "# Ejercico 2 #\n",
        "\n",
        "lista = [1, 2, 3, 4, 5, 6, 7, 8, 9, 10]\n",
        "lista_ordenada = sorted(lista)\n",
        "a = 0\n",
        "i = 1\n",
        "num_menor = 0\n",
        "\n",
        "while a!=1:\n",
        "  if lista_ordenada [0] < lista_ordenada[i]:\n",
        "    a=1\n",
        "    num_menor = lista_ordenada[i]\n",
        "  \n",
        "  else:\n",
        "    i+=1\n",
        "\n",
        "print(str(num_menor)) "
      ],
      "execution_count": 28,
      "outputs": [
        {
          "output_type": "stream",
          "text": [
            "2\n"
          ],
          "name": "stdout"
        }
      ]
    },
    {
      "cell_type": "code",
      "metadata": {
        "id": "6HRw0jscPJuq",
        "outputId": "498e6bfb-4cb3-4f74-8446-d5daf9817566",
        "colab": {
          "base_uri": "https://localhost:8080/",
          "height": 181
        }
      },
      "source": [
        " # Ejercicio 3 #\n",
        "lista_a = [1, 3, 24, 4 , 1, 7, 1, 39, 1]\n",
        "lista_frecuencia = []\n",
        "lista.sort()\n",
        "i=0\n",
        "i2=0\n",
        "contador=0\n",
        "print(lista_a)\n",
        "while (i  < 9):\n",
        "  if (i>0):\n",
        "    while (lista_a[i]==lista_a[i-1]):\n",
        "      i+=1\n",
        "    \n",
        "  lista_frecuencia.append(lista.count(lista_a[i]))\n",
        "  print('El valor de: '+str(lista_a[i])+' tiene una frecuencia de: '+str(lista_frecuencia[i2]))\n",
        "\n",
        "  i+=1\n",
        "  i2+=1\n"
      ],
      "execution_count": 39,
      "outputs": [
        {
          "output_type": "stream",
          "text": [
            "[1, 3, 24, 4, 1, 7, 1, 39, 1]\n",
            "El valor de: 1 tiene una frecuencia de: 1\n",
            "El valor de: 3 tiene una frecuencia de: 2\n",
            "El valor de: 24 tiene una frecuencia de: 0\n",
            "El valor de: 4 tiene una frecuencia de: 1\n",
            "El valor de: 1 tiene una frecuencia de: 1\n",
            "El valor de: 7 tiene una frecuencia de: 3\n",
            "El valor de: 1 tiene una frecuencia de: 1\n",
            "El valor de: 39 tiene una frecuencia de: 0\n",
            "El valor de: 1 tiene una frecuencia de: 1\n"
          ],
          "name": "stdout"
        }
      ]
    },
    {
      "cell_type": "code",
      "metadata": {
        "id": "c6ejm3CMikcp",
        "outputId": "87ff2371-b840-4e9a-ae9b-68c6951011f4",
        "colab": {
          "base_uri": "https://localhost:8080/",
          "height": 726
        }
      },
      "source": [
        "# Ejercicio 4 #\n",
        "\n",
        "lista1 = []\n",
        "lista2 = []\n",
        "listaRepetidos = []\n",
        "\n",
        "for i in range (0,20):\n",
        "  numero = int(input(\"Ingresa el numero en la primera lista [ \"+str(i)+\" ] \"))\n",
        "  lista1.append(numero)\n",
        "  numero = int(input(\"Ingresa el numero en la segunda lista [ \"+str(i)+\" ] \"))\n",
        "  lista2.append(numero)\n",
        "\n",
        "lista1.sort()\n",
        "lista2.sort()\n",
        "i=0\n",
        "while i <20:\n",
        "\n",
        "  if (i>0):\n",
        "    while lista1[i]==lista1[i-1]:\n",
        "      i+=1\n",
        "  if (lista2.count(lista1[i])>0):\n",
        "    listaRepetidos.append(lista1[i])\n",
        "  i+=1\n",
        "print(\"Primera lista: \"+ str(lista1))\n",
        "print(\"Segunda lista: \"+str(lista2))  \n",
        "\n",
        "print('Los numeros que se repiten en ambas listas: '+str(listaRepetidos))"
      ],
      "execution_count": 42,
      "outputs": [
        {
          "output_type": "stream",
          "text": [
            "Ingresa el numero en la primera lista [ 0 ] 0\n",
            "Ingresa el numero en la segunda lista [ 0 ] 1\n",
            "Ingresa el numero en la primera lista [ 1 ] 2\n",
            "Ingresa el numero en la segunda lista [ 1 ] 2\n",
            "Ingresa el numero en la primera lista [ 2 ] 4\n",
            "Ingresa el numero en la segunda lista [ 2 ] 3\n",
            "Ingresa el numero en la primera lista [ 3 ] 6\n",
            "Ingresa el numero en la segunda lista [ 3 ] 4\n",
            "Ingresa el numero en la primera lista [ 4 ] 8\n",
            "Ingresa el numero en la segunda lista [ 4 ] 5\n",
            "Ingresa el numero en la primera lista [ 5 ] 10\n",
            "Ingresa el numero en la segunda lista [ 5 ] 6\n",
            "Ingresa el numero en la primera lista [ 6 ] 12\n",
            "Ingresa el numero en la segunda lista [ 6 ] 7\n",
            "Ingresa el numero en la primera lista [ 7 ] 14\n",
            "Ingresa el numero en la segunda lista [ 7 ] 8\n",
            "Ingresa el numero en la primera lista [ 8 ] 16\n",
            "Ingresa el numero en la segunda lista [ 8 ] 9\n",
            "Ingresa el numero en la primera lista [ 9 ] 18\n",
            "Ingresa el numero en la segunda lista [ 9 ] 10\n",
            "Ingresa el numero en la primera lista [ 10 ] 20\n",
            "Ingresa el numero en la segunda lista [ 10 ] 11\n",
            "Ingresa el numero en la primera lista [ 11 ] 22\n",
            "Ingresa el numero en la segunda lista [ 11 ] 12\n",
            "Ingresa el numero en la primera lista [ 12 ] 24\n",
            "Ingresa el numero en la segunda lista [ 12 ] 13\n",
            "Ingresa el numero en la primera lista [ 13 ] 26\n",
            "Ingresa el numero en la segunda lista [ 13 ] 14\n",
            "Ingresa el numero en la primera lista [ 14 ] 28\n",
            "Ingresa el numero en la segunda lista [ 14 ] 15\n",
            "Ingresa el numero en la primera lista [ 15 ] 20\n",
            "Ingresa el numero en la segunda lista [ 15 ] 16\n",
            "Ingresa el numero en la primera lista [ 16 ] 32\n",
            "Ingresa el numero en la segunda lista [ 16 ] 17\n",
            "Ingresa el numero en la primera lista [ 17 ] 34\n",
            "Ingresa el numero en la segunda lista [ 17 ] 18\n",
            "Ingresa el numero en la primera lista [ 18 ] 36\n",
            "Ingresa el numero en la segunda lista [ 18 ] 19\n",
            "Ingresa el numero en la primera lista [ 19 ] 38\n",
            "Ingresa el numero en la segunda lista [ 19 ] 20\n",
            "Primera lista: [0, 2, 4, 6, 8, 10, 12, 14, 16, 18, 20, 20, 22, 24, 26, 28, 32, 34, 36, 38]\n",
            "Segunda lista: [1, 2, 3, 4, 5, 6, 7, 8, 9, 10, 11, 12, 13, 14, 15, 16, 17, 18, 19, 20]\n",
            "Los numeros que se repiten en ambas listas: [2, 4, 6, 8, 10, 12, 14, 16, 18, 20]\n"
          ],
          "name": "stdout"
        }
      ]
    }
  ]
}